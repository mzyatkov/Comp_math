{
 "cells": [
  {
   "cell_type": "markdown",
   "source": [
    "### Метод Ньютона"
   ],
   "metadata": {}
  },
  {
   "cell_type": "markdown",
   "source": [
    "Задание\n",
    "\n",
    "1. ответить на все вопросы в скрипте\n",
    "2. изменить код метода Ньютона так, чтобы он смог разрешать все проблемные случаи, возникающие в скрипте, продемонстрировать это, объяснить почему модификация решает проблему. Проблемы - нулевая производная, кратные корни, биения. Для кратных корней надо так модифицировать метод, чтобы порядок оставался вторым и продемонстрировать это.\n",
    "\n",
    "ВАЖНО! Модифицированный метод Ньютона должен получаться путем добавления новых строчек в simple_newton, а не переписыванием его с нуля. Новые строчки надо прокомментировать, зачем они были добавлены."
   ],
   "metadata": {}
  },
  {
   "cell_type": "code",
   "execution_count": 161,
   "source": [
    "# простая реализация Метода Ньютона\n",
    "%matplotlib inline \n",
    "import matplotlib.pyplot as plt\n",
    "import numpy as np\n",
    "\n",
    "def simple_newton(func, dfunc, x, tol = 1e-12):\n",
    "    sol = 0\n",
    "    iteration = 0\n",
    "    dxs = []\n",
    "    xs=[x]\n",
    "    for i in range(30):\n",
    "        iteration += 1\n",
    "        dx = -func(x)/dfunc(x)\n",
    "        dxs.append(abs(dx))\n",
    "        x = x + dx\n",
    "        xs.append(x)\n",
    "        if abs(dx) < tol:\n",
    "            sol = x\n",
    "            return [sol, iteration, dxs]\n",
    "    sol = float('nan')\n",
    "    print('More then 30 iterations!')\n",
    "    return [sol, iteration,xs]"
   ],
   "outputs": [],
   "metadata": {}
  },
  {
   "cell_type": "code",
   "execution_count": 132,
   "source": [
    "# модифицированная реализация Метода Ньютона\n",
    "%matplotlib inline \n",
    "import matplotlib.pyplot as plt\n",
    "import numpy as np\n",
    "\n",
    "def hard_newton(func, dfunc, x, tol = 1e-12, kratnost = 1):\n",
    "    sol = 0\n",
    "    iteration = 0\n",
    "    dxs = []\n",
    "    xs = [x] #запоминаем точки для избавления от биений\n",
    "    for i in range(30):\n",
    "        iteration += 1\n",
    "        while dfunc(x) == 0:    # Здесь избавимся от обнуления производной, \n",
    "                                # если она равна нулю, то делаем сдвиг на константу\n",
    "                                # если нашли корень, то останавливаем поиск\n",
    "            if func(x)==0:\n",
    "                dxs.append(None)\n",
    "                return [x,iteration, dxs]\n",
    "            x-=1\n",
    "        dx = -func(x)/dfunc(x)\n",
    "        dx *= kratnost #умножаем на кратность корня для избавления от кратных корней\n",
    "        dxs.append(abs(dx))\n",
    "        x = x + dx \n",
    "        if x in xs: #Если произошло биение(зациклилось), то берем середину отрезка между предыдущей точкой и этой\n",
    "            x=(xs[-1]+x)/2\n",
    "            xs=[]\n",
    "        xs.append(x)\n",
    "        if abs(dx) < tol:\n",
    "            sol = x\n",
    "            return [sol, iteration, dxs]\n",
    "    sol = float('nan')\n",
    "    print('More then 30 iterations!')\n",
    "    return [sol, iteration]"
   ],
   "outputs": [],
   "metadata": {}
  },
  {
   "cell_type": "markdown",
   "source": [
    "#### Нелинейное уравнение 1"
   ],
   "metadata": {}
  },
  {
   "cell_type": "code",
   "execution_count": 133,
   "source": [
    "x = np.linspace(-2,10)\n",
    "func0 = lambda x: x**3 - 10*x**2 + 5\n",
    "dfunc0 = lambda x: 3*x**2 - 20*x\n",
    "y = func0(x)\n",
    "plt.plot(x, y)"
   ],
   "outputs": [
    {
     "output_type": "execute_result",
     "data": {
      "text/plain": [
       "[<matplotlib.lines.Line2D at 0x7f7f39e6d160>]"
      ]
     },
     "metadata": {},
     "execution_count": 133
    },
    {
     "output_type": "display_data",
     "data": {
      "image/png": "[encoded data removed]",
      "text/plain": [
       "<Figure size 432x288 with 1 Axes>"
      ]
     },
     "metadata": {
      "needs_background": "light"
     }
    }
   ],
   "metadata": {}
  },
  {
   "cell_type": "markdown",
   "source": [
    "1. Объяснить, почему различаются результаты в случае 1 и 2\n",
    "2. Объяснить, что происходит в случае 3\n",
    "3. Построить график порядка сходимости от номера итерации. Объяснить результат"
   ],
   "metadata": {}
  },
  {
   "cell_type": "markdown",
   "source": [
    "\n",
    "1.  Результаты разные в случаях 1 и 2, потому что для метода ньютона даны разные начальные приближения, находящиеся в окрестностях разных корней. Отсюда и получаем, что метод Ньютона сходится к 2 разным корням.\n",
    "2. В случае 3 начальное приближение такое, что производная $f$ обращается в 0, и функция $\\phi$ не определена в точке 0.\n",
    "3. Получаем график порядка сходимости(ниже). Видим, что он стремится к 2, что согласуется с тем, что метод ньютона имеет квадратичную сходимость."
   ],
   "metadata": {}
  },
  {
   "cell_type": "code",
   "execution_count": 134,
   "source": [
    "# data = simple_newton(func0, dfunc0, 8) # случай 1\n",
    "data = simple_newton(func0, dfunc0, 0.7) # случай 2\n",
    "# data = simple_newton(func0, dfunc0, 0.0) # случай 3\n",
    "print('sol = ', data[0])\n",
    "print('iter = ', data[1])"
   ],
   "outputs": [
    {
     "output_type": "stream",
     "name": "stdout",
     "text": [
      "sol =  0.7346035077893033\n",
      "iter =  4\n"
     ]
    }
   ],
   "metadata": {}
  },
  {
   "cell_type": "code",
   "execution_count": 218,
   "source": [
    "# data = hard_newton(func0, dfunc0, 8) # случай 1\n",
    "# data = hard_newton(func0, dfunc0, 0.7) # случай 2\n",
    "data = hard_newton(func0, dfunc0, 0.0) # случай 3\n",
    "print('sol = ', data[0])\n",
    "print('iter = ', data[1])"
   ],
   "outputs": [
    {
     "output_type": "stream",
     "name": "stdout",
     "text": [
      "sol =  -0.6840945657036895\n",
      "iter =  6\n"
     ]
    }
   ],
   "metadata": {}
  },
  {
   "cell_type": "code",
   "execution_count": 245,
   "source": [
    "#скрипт, который реализует описанный выше алгоритм\n",
    "%matplotlib inline\n",
    "import numpy as np\n",
    "import math\n",
    "import numpy.linalg as la\n",
    "import matplotlib.pyplot as plt\n",
    "\n",
    "\n",
    "def simple_newton_plot(func, dfunc, x, stop):\n",
    "    sol = 0\n",
    "    iteration = 0\n",
    "    dxs = []\n",
    "    while iteration !=stop:\n",
    "        iteration += 1\n",
    "        while dfunc(x) == 0:\n",
    "            if func(x)==0:\n",
    "                return [x, dxs]\n",
    "            x+=1\n",
    "        dx = -func(x)/dfunc(x)\n",
    "        dxs.append(abs(dx))\n",
    "        x = x + dx\n",
    "        sol = x\n",
    "    return [sol, dxs]\n",
    "\n",
    "def hard_newton_plot(func,dfunc,x,stop,kratnost):\n",
    "    sol = 0\n",
    "    iteration = 0\n",
    "    dxs = []\n",
    "    xs = [x] #запоминаем точки для избавления от биений\n",
    "    allxs = [x] # запоминаем все точки для построения графика\n",
    "    while iteration!=stop:\n",
    "        iteration += 1\n",
    "        while dfunc(x) == 0:    # Здесь избавимся от обнуления производной, \n",
    "                                # если она равна нулю, то делаем сдвиг на константу\n",
    "                                # если нашли корень, то останавливаем поиск\n",
    "            if func(x)==0:\n",
    "                dxs.append(None)\n",
    "                return [x, dxs]\n",
    "            x-=1\n",
    "        dx = -func(x)/dfunc(x)\n",
    "        dx *= kratnost #умножаем на кратность корня для избавления от кратных корней\n",
    "        dxs.append(abs(dx))\n",
    "        x = x + dx\n",
    "        if x in xs: #Если произошло биение(зациклилось), то берем середину отрезка между предыдущей точкой и этой\n",
    "            x=(xs[-1]+x)/2\n",
    "            xs=[]\n",
    "        xs.append(x)\n",
    "        allxs.append(x)\n",
    "        sol = x\n",
    "    return [sol, dxs, allxs]\n",
    "\n",
    "def make_plot(func0, dfunc0, x0, x_true, n_dots, kratnost):\n",
    "    data = hard_newton_plot(func0, dfunc0, x0, n_dots, kratnost)\n",
    "    print(data[0])\n",
    "    allxs = data[2]\n",
    "    # print(allxs)\n",
    "    x=[]\n",
    "    y=[]\n",
    "    for i in range(len(allxs)-1):\n",
    "        try:\n",
    "            y.append(math.log(abs(allxs[i+1] - x_true))/math.log(abs(allxs[i]-x_true)))\n",
    "        except:\n",
    "            y.append(float('nan'))\n",
    "        # y.append(allxs[i])\n",
    "        x.append(i+1)\n",
    "    plt.plot(x,y, label= 'Порядок сходимости')\n",
    "    plt.legend() #отрисовываем легеду. Здесь в верхнем левом углу, но можно поменять\n",
    "    plt.grid() #добавляем сетку на график\n",
    "    plt.xlabel('Номер итерации') #подписываем ось x\n",
    "    plt.ylabel('Порядок сходимости p') #подписываем ось x\n",
    "    plt.title('Порядок сходимости от номера итераций',) #подписываем график\n",
    "    print()\n",
    "make_plot(func0, dfunc0, 0.0, float('-0.68409456570368944'), 8, 1)\n"
   ],
   "outputs": [
    {
     "output_type": "stream",
     "name": "stdout",
     "text": [
      "-0.6840945657036895\n",
      "\n"
     ]
    },
    {
     "output_type": "display_data",
     "data": {
      "image/png": "[encoded data removed]",
      "text/plain": [
       "<Figure size 432x288 with 1 Axes>"
      ]
     },
     "metadata": {
      "needs_background": "light"
     }
    }
   ],
   "metadata": {}
  },
  {
   "cell_type": "markdown",
   "source": [
    "Как видно на графике, модифицированный алгоритм имеет порядок сходимости 2, что согласуется с теорией "
   ],
   "metadata": {}
  },
  {
   "cell_type": "markdown",
   "source": [
    "#### Нелинейное уравнение 2"
   ],
   "metadata": {}
  },
  {
   "cell_type": "code",
   "execution_count": 187,
   "source": [
    "x = np.linspace(0,5)\n",
    "func1 = lambda x: x**4 - 6.4*x**3 + 6.45*x**2 + 20.538*x - 31.752 #double root\n",
    "dfunc1 = lambda x: 4.0*x**3 - 19.2*x**2 + 12.9*x + 20.538\n",
    "y = func1(x)\n",
    "plt.plot(x, y)"
   ],
   "outputs": [
    {
     "output_type": "execute_result",
     "data": {
      "text/plain": [
       "[<matplotlib.lines.Line2D at 0x7f7f39f03b80>]"
      ]
     },
     "metadata": {},
     "execution_count": 187
    },
    {
     "output_type": "display_data",
     "data": {
      "image/png": "[encoded data removed]",
      "text/plain": [
       "<Figure size 432x288 with 1 Axes>"
      ]
     },
     "metadata": {
      "needs_background": "light"
     }
    }
   ],
   "metadata": {}
  },
  {
   "cell_type": "markdown",
   "source": [
    "1. Построить график порядка сходимости от номера итерации. Объяснить результат"
   ],
   "metadata": {}
  },
  {
   "cell_type": "code",
   "execution_count": 201,
   "source": [
    "data = hard_newton(func1, dfunc1, 2.0, 100 ,2)\n",
    "print('sol = ', data[0])\n",
    "print('iter = ', data[1])"
   ],
   "outputs": [
    {
     "output_type": "stream",
     "name": "stdout",
     "text": [
      "sol =  2.098829648894669\n",
      "iter =  1\n"
     ]
    }
   ],
   "metadata": {}
  },
  {
   "cell_type": "code",
   "execution_count": 246,
   "source": [
    "# dxs = hard_newton_plot(func1,dfunc1,2.0, 100, 2)[1]\n",
    "\n",
    "# x=[]\n",
    "# y=[]\n",
    "# for i in range(len(dxs)-1):\n",
    "#     if dxs[i+1]==0:\n",
    "#         print(f'error: ln(0), i={i+1}')\n",
    "#         break\n",
    "#     x.append(i+1)\n",
    "#     y.append(math.log(dxs[i+1])/math.log(dxs[i]))\n",
    "# plt.yscale('log')\n",
    "# plt.plot(x,y, label= 'Порядок сходимости')\n",
    "# plt.legend() #отрисовываем легеду. Здесь в верхнем левом углу, но можно поменять\n",
    "# plt.grid() #добавляем сетку на график\n",
    "# plt.xticks(x)\n",
    "# plt.xlabel('Номер итерации') #подписываем ось x\n",
    "# plt.ylabel('Порядок сходимости p') #подписываем ось x\n",
    "# plt.title('Порядок сходимости от номера итераций',) #подписываем график\n",
    "# print()\n",
    "make_plot(func1,dfunc1,2.0,2.1,20,2)"
   ],
   "outputs": [
    {
     "output_type": "stream",
     "name": "stdout",
     "text": [
      "2.100000000014807\n",
      "\n"
     ]
    },
    {
     "output_type": "display_data",
     "data": {
      "image/png": "[encoded data removed]",
      "text/plain": [
       "<Figure size 432x288 with 1 Axes>"
      ]
     },
     "metadata": {
      "needs_background": "light"
     }
    }
   ],
   "metadata": {}
  },
  {
   "cell_type": "markdown",
   "source": [
    "На графике видно, что в пределе порядок сходимости равен 1 и скорость сходимости линейна. Это происходит потому что производная в точке корня равна нулю."
   ],
   "metadata": {}
  },
  {
   "cell_type": "markdown",
   "source": [
    "#### Нелинейное уравнение 3"
   ],
   "metadata": {}
  },
  {
   "cell_type": "code",
   "execution_count": 146,
   "source": [
    "x = np.linspace(0,2)\n",
    "func2 = lambda x: (x-1)**3\n",
    "dfunc2 = lambda x: 3*(x-1)**2\n",
    "y = func2(x)\n",
    "plt.plot(x, y)"
   ],
   "outputs": [
    {
     "output_type": "execute_result",
     "data": {
      "text/plain": [
       "[<matplotlib.lines.Line2D at 0x7f7f3a29ec70>]"
      ]
     },
     "metadata": {},
     "execution_count": 146
    },
    {
     "output_type": "display_data",
     "data": {
      "image/png": "[encoded data removed]",
      "text/plain": [
       "<Figure size 432x288 with 1 Axes>"
      ]
     },
     "metadata": {
      "needs_background": "light"
     }
    }
   ],
   "metadata": {}
  },
  {
   "cell_type": "markdown",
   "source": [
    "1. Подобрать начальное приближение и решить задачу"
   ],
   "metadata": {}
  },
  {
   "cell_type": "code",
   "execution_count": 202,
   "source": [
    "\n",
    "# начальное приближение ищем с помощью бин поиска\n",
    "\n",
    "a = -100\n",
    "b = 50  # выбираем разумные границы отрезка\n",
    "if func2(a)*func2(b) > 0:   # если на +бесконечности и -бесконечности одинаковые знаки, то ноль где-то  внутри.\n",
    "                            # в этом случае дальше искать сложно, только перебором\n",
    "    x0 = (a+b)/2\n",
    "\n",
    "step = 1\n",
    "\n",
    "tol = 1\n",
    "while func2((a+b)/2) != 0 or b-a > tol: #бин поиск границ отрезка\n",
    "    if func2((a+b)/2) * func2(a) > 0: \n",
    "        a = (a+b)/2\n",
    "    else:\n",
    "        b = (a+b)/2\n",
    "\n",
    "x0 = (a+b)/2\n",
    "\n",
    "# решаем задачу\n",
    "data = hard_newton(func2, dfunc2, x0) \n",
    "print('sol = ', data[0])\n",
    "print('iter = ', data[1])\n"
   ],
   "outputs": [
    {
     "output_type": "stream",
     "name": "stdout",
     "text": [
      "sol =  1.0\n",
      "iter =  1\n"
     ]
    }
   ],
   "metadata": {}
  },
  {
   "cell_type": "markdown",
   "source": [
    "#### Нелинейное уравнение 4"
   ],
   "metadata": {}
  },
  {
   "cell_type": "code",
   "execution_count": 203,
   "source": [
    "x = np.linspace(-0.5,1.5)\n",
    "#x = np.linspace(-5,5)\n",
    "func3 = lambda x: x**3 - 2*x + 2\n",
    "dfunc3 = lambda x: 3*x**2 - 2\n",
    "y = func3(x)\n",
    "plt.plot(x, y)"
   ],
   "outputs": [
    {
     "output_type": "execute_result",
     "data": {
      "text/plain": [
       "[<matplotlib.lines.Line2D at 0x7f7f39c956d0>]"
      ]
     },
     "metadata": {},
     "execution_count": 203
    },
    {
     "output_type": "display_data",
     "data": {
      "image/png": "[encoded data removed]",
      "text/plain": [
       "<Figure size 432x288 with 1 Axes>"
      ]
     },
     "metadata": {
      "needs_background": "light"
     }
    }
   ],
   "metadata": {}
  },
  {
   "cell_type": "markdown",
   "source": [
    "1. Почему не находится решение во втором случае?"
   ],
   "metadata": {}
  },
  {
   "cell_type": "markdown",
   "source": [
    "Решение не находится во втором случае из-за биений: алгоритм зацикливается и не приближается к корню:"
   ],
   "metadata": {}
  },
  {
   "cell_type": "code",
   "execution_count": 204,
   "source": [
    "data = simple_newton(func3, dfunc3, 0) # случай 2\n",
    "print(f'промежуточные значения: {data[2]}')\n",
    "print('sol = ', data[0])\n",
    "print('iter = ', data[1])"
   ],
   "outputs": [
    {
     "output_type": "stream",
     "name": "stdout",
     "text": [
      "More then 30 iterations!\n",
      "промежуточные значения: [0, 1.0, 0.0, 1.0, 0.0, 1.0, 0.0, 1.0, 0.0, 1.0, 0.0, 1.0, 0.0, 1.0, 0.0, 1.0, 0.0, 1.0, 0.0, 1.0, 0.0, 1.0, 0.0, 1.0, 0.0, 1.0, 0.0, 1.0, 0.0, 1.0, 0.0]\n",
      "sol =  nan\n",
      "iter =  30\n"
     ]
    }
   ],
   "metadata": {}
  },
  {
   "cell_type": "code",
   "execution_count": 205,
   "source": [
    "# data = simple_newton(func3, dfunc3, 0.5) # случай 1\n",
    "data = hard_newton(func3, dfunc3, 0) # случай 2, модифицированный\n",
    "print('sol = ', data[0])\n",
    "print('iter = ', data[1])"
   ],
   "outputs": [
    {
     "output_type": "stream",
     "name": "stdout",
     "text": [
      "sol =  -1.7692923542386314\n",
      "iter =  12\n"
     ]
    }
   ],
   "metadata": {}
  },
  {
   "cell_type": "code",
   "execution_count": null,
   "source": [],
   "outputs": [],
   "metadata": {}
  }
 ],
 "metadata": {
  "anaconda-cloud": {},
  "kernelspec": {
   "name": "python3",
   "display_name": "Python 3.8.5 64-bit ('base': conda)"
  },
  "language_info": {
   "codemirror_mode": {
    "name": "ipython",
    "version": 3
   },
   "file_extension": ".py",
   "mimetype": "text/x-python",
   "name": "python",
   "nbconvert_exporter": "python",
   "pygments_lexer": "ipython3",
   "version": "3.8.5"
  },
  "interpreter": {
   "hash": "374c64f666e4a92d73d9fe4353c63504f10102eb3c5a6e85086f78d6fc6d099f"
  }
 },
 "nbformat": 4,
 "nbformat_minor": 1
}