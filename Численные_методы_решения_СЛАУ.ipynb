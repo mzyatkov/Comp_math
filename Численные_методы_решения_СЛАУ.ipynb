{
  "nbformat": 4,
  "nbformat_minor": 0,
  "metadata": {
    "anaconda-cloud": {},
    "kernelspec": {
      "name": "python3",
      "display_name": "Python 3.8.5 64-bit ('base': conda)"
    },
    "language_info": {
      "codemirror_mode": {
        "name": "ipython",
        "version": 3
      },
      "file_extension": ".py",
      "mimetype": "text/x-python",
      "name": "python",
      "nbconvert_exporter": "python",
      "pygments_lexer": "ipython3",
      "version": "3.8.5"
    },
    "interpreter": {
      "hash": "374c64f666e4a92d73d9fe4353c63504f10102eb3c5a6e85086f78d6fc6d099f"
    },
    "colab": {
      "name": "Численные методы решения СЛАУ.ipynb",
      "provenance": [],
      "include_colab_link": true
    }
  },
  "cells": [
    {
      "cell_type": "markdown",
      "metadata": {
        "id": "view-in-github",
        "colab_type": "text"
      },
      "source": [
        "<a href=\"https://colab.research.google.com/github/mzyatkov/Comp_math/blob/main/%D0%A7%D0%B8%D1%81%D0%BB%D0%B5%D0%BD%D0%BD%D1%8B%D0%B5_%D0%BC%D0%B5%D1%82%D0%BE%D0%B4%D1%8B_%D1%80%D0%B5%D1%88%D0%B5%D0%BD%D0%B8%D1%8F_%D0%A1%D0%9B%D0%90%D0%A3.ipynb\" target=\"_parent\"><img src=\"https://colab.research.google.com/assets/colab-badge.svg\" alt=\"Open In Colab\"/></a>"
      ]
    },
    {
      "cell_type": "markdown",
      "metadata": {
        "id": "P_-_U3Q42HKY"
      },
      "source": [
        "### Предварительные сведения"
      ]
    },
    {
      "cell_type": "markdown",
      "metadata": {
        "id": "cU8pxdQJ2HKc"
      },
      "source": [
        "Векторные нормы:\n",
        "\n",
        "$||u||_{\\infty} = \\max_i|u_i|$\n",
        "\n",
        "$||u||_1 = \\sum_i |u_i|$\n",
        "\n",
        "$||u||_2 = \\left(\\sum_i |u_i|^2 \\right)^{\\frac{1}{2}}$\n",
        "\n",
        "Матричные нормы:\n",
        "\n",
        "$||A||_{\\infty} = \\max_i \\sum_j |a_{ij}|$\n",
        "\n",
        "$||A||_1 = \\max_j \\sum_i |a_{ij}|$\n",
        "\n",
        "$||A||_2 = \\left(\\max_i \\lambda_i(A A^*) \\right)^{\\frac{1}{2}}$"
      ]
    },
    {
      "cell_type": "markdown",
      "metadata": {
        "id": "eBTKZXo42HKe"
      },
      "source": [
        "Контрольный вопрос: какова будет вторая норма матрицы, если матрица самосопряженная?\n",
        "\n",
        "Ваш ответ на контрольный вопрос: \n",
        "\n",
        "$$AA^*=A^2\\Rightarrow \\lambda_i(A^2) = \\lambda_i^2(A)$$\n",
        "\n",
        "Значит, вторая норма равна максимальному(по модулю) модулю собственного числа самосопряженной матрицы "
      ]
    },
    {
      "cell_type": "code",
      "metadata": {
        "id": "uS_JtAp02HKg",
        "outputId": "42eaf373-436d-4587-cb49-7ef86d1d8bcf"
      },
      "source": [
        "import numpy as np\n",
        "import numpy.linalg as la\n",
        "\n",
        "A = np.array([[1,2],[3,4]])\n",
        "v = range(0,3)\n",
        "Vander = np.vander(v)\n",
        "print('norm_1 = ', la.norm(Vander, 1))\n",
        "print('norm_2 = ', la.norm(Vander, 2))\n",
        "print('norm_inf = ', la.norm(Vander, np.inf))\n",
        "Vander"
      ],
      "execution_count": null,
      "outputs": [
        {
          "output_type": "stream",
          "name": "stdout",
          "text": [
            "norm_1 =  5.0\n",
            "norm_2 =  4.844958524498339\n",
            "norm_inf =  7.0\n"
          ]
        },
        {
          "output_type": "execute_result",
          "data": {
            "text/plain": [
              "array([[0, 0, 1],\n",
              "       [1, 1, 1],\n",
              "       [4, 2, 1]])"
            ]
          },
          "metadata": {},
          "execution_count": 1
        }
      ]
    },
    {
      "cell_type": "markdown",
      "metadata": {
        "id": "k7RGOgYY2HKj"
      },
      "source": [
        "Обусловленность:\n",
        "$$(A+\\delta A)u = f + \\delta f$$\n",
        "$$\\frac{||\\delta u||}{||u||}\\le \\frac{\\mu}{1-\\mu\\frac{||\\delta A||}{||A||}} \\left(\\frac{||\\delta f||}{||f||}+\\frac{||\\delta A||}{||A||}\\right)$$\n",
        "\n",
        "$\\mu$ - число обусловленности матрицы A, $\\mu(A) = ||A^{-1}||\\cdot||A||$, $\\mu \\ge 1$.\n",
        "\n"
      ]
    },
    {
      "cell_type": "markdown",
      "metadata": {
        "id": "05WKV2oG2HKk"
      },
      "source": [
        "## Пример проблемы использования метода Гаусса для решения СЛАУ"
      ]
    },
    {
      "cell_type": "code",
      "metadata": {
        "id": "_zKgyg5O2HKl"
      },
      "source": [
        "import numpy as np\n",
        "import numpy.linalg as la\n",
        "\n",
        "def gauss( A, b ):\n",
        "    n = b.size\n",
        "    for k in range(0,n-1):\n",
        "        for i in range(k+1,n):\n",
        "            if A[i,k]!=0:\n",
        "                c = A[i,k]/A[k,k]\n",
        "                A[i,k+1:n] = A[i,k+1:n] - c*A[k,k+1:n]\n",
        "                b[i] = b[i] - c*b[k]\n",
        "                \n",
        "    # обратный ход\n",
        "    for k in range(n-1,-1,-1):\n",
        "        b[k] = (b[k] - np.dot(A[k,k+1:n],b[k+1:n]))/A[k,k];\n",
        "    return b\n",
        "\n",
        "#все числа в представлены как вещественные\n",
        "A1 = np.array([[1e-16, 1., -1.], [-1., 2., -1.], [2., -1., 0.]]);\n",
        "b1 = np.array([0., 0., 1.]);\n",
        "\n",
        "A2 = np.array([[2., -1., 0.], [-1., 2., -1.], [1e-16, 1., -1.]])\n",
        "b2 = np.array([1., 0., 0.])"
      ],
      "execution_count": null,
      "outputs": []
    },
    {
      "cell_type": "code",
      "metadata": {
        "id": "gAOivgVU2HKo",
        "outputId": "6df7792f-a90b-4024-8e5d-29d015eb9450"
      },
      "source": [
        "print(A1)"
      ],
      "execution_count": null,
      "outputs": [
        {
          "output_type": "stream",
          "name": "stdout",
          "text": [
            "[[ 1.e-16  1.e+00 -1.e+00]\n",
            " [-1.e+00  2.e+00 -1.e+00]\n",
            " [ 2.e+00 -1.e+00  0.e+00]]\n"
          ]
        }
      ]
    },
    {
      "cell_type": "code",
      "metadata": {
        "id": "rPpo3Ejh2HKp",
        "outputId": "83c778ae-771a-4942-8fb9-24682a40fb01"
      },
      "source": [
        "print(A2)"
      ],
      "execution_count": null,
      "outputs": [
        {
          "output_type": "stream",
          "name": "stdout",
          "text": [
            "[[ 2.e+00 -1.e+00  0.e+00]\n",
            " [-1.e+00  2.e+00 -1.e+00]\n",
            " [ 1.e-16  1.e+00 -1.e+00]]\n"
          ]
        }
      ]
    },
    {
      "cell_type": "code",
      "metadata": {
        "id": "T5FbHH8a2HKq",
        "outputId": "7a2323f7-e5f9-4f2f-c2bd-a45f185d3688"
      },
      "source": [
        "A1 = np.array([[1e-16, 1., -1.], [-1., 2., -1.], [2., -1., 0.]]);\n",
        "b1 = np.array([0., 0., 1.]);\n",
        "\n",
        "A2 = np.array([[2., -1., 0.], [-1., 2., -1.], [1e-16, 1., -1.]])\n",
        "b2 = np.array([1., 0., 0.])\n",
        "\n",
        "print('mu1 = ', la.cond(A1))\n",
        "print('mu2 = ', la.cond(A2))\n",
        "\n",
        "print('u1 = ', gauss(A1, b1))\n",
        "#print('u1 = ', la.solve(A1, b1))\n",
        "print('u2 = ', gauss(A2, b2))#la.solve(A2, b2))"
      ],
      "execution_count": null,
      "outputs": [
        {
          "output_type": "stream",
          "name": "stdout",
          "text": [
            "mu1 =  16.393731622284385\n",
            "mu2 =  16.393731622284392\n",
            "u1 =  [0.55511151 0.25       0.25      ]\n",
            "u2 =  [1. 1. 1.]\n"
          ]
        }
      ]
    },
    {
      "cell_type": "markdown",
      "metadata": {
        "id": "HDtHP-O72HKr"
      },
      "source": [
        "## Часть 1. LU разложение"
      ]
    },
    {
      "cell_type": "markdown",
      "metadata": {
        "id": "iCiewywp2HKs"
      },
      "source": [
        "Задание: \n",
        "\n",
        "реализовать алгоритм решения предыдущей задачи с матрицей A2 с помощью LU-разложение В решении должна выводиться L, U и собственно решение системы. \n",
        "\n",
        "ВАЖНО: реализация метода LU должна быть получена путем небольшой модификации метода gauss!  При это саму реализацию можно разделить на два метода: один метод собственно находит LU разложение (можно сделать переделкой цикла для матрицы A метода gauss), второй метод - непосредственное решение системы с помощью прямого и обратного хода. Ни в каком виде нельзя ползоваться пакетными методами (в частности, la.solve)"
      ]
    },
    {
      "cell_type": "markdown",
      "metadata": {
        "collapsed": true,
        "id": "6MLWIsv72HKt"
      },
      "source": [
        "### LU - разложение с помощью пакета sympy"
      ]
    },
    {
      "cell_type": "markdown",
      "metadata": {
        "id": "MuqzQqPl2HKu"
      },
      "source": [
        "Чтобы убедиться, что разложение получено верно, можно воспользоваться скриптом ниже"
      ]
    },
    {
      "cell_type": "code",
      "metadata": {
        "id": "3b-tiltq2HKu",
        "outputId": "693f59b9-06fc-4059-d8c3-ba94a54b09af"
      },
      "source": [
        "import sympy as sp\n",
        "import numpy as np\n",
        "\n",
        "A1 = np.array([[1e-16, 1., -1.], [-1., 2., -1.], [2., -1., 0.]]);\n",
        "b1 = np.array([0., 0., 1.]);\n",
        "A2 = np.array([[2., -1., 0.], [-1., 2., -1.], [1e-16, 1., -1.]])\n",
        "b2 = np.array([1., 0., 0.])\n",
        "\n",
        "A = sp.Matrix(A2)\n",
        "L, U, _ = A.LUdecomposition()\n",
        "U"
      ],
      "execution_count": null,
      "outputs": [
        {
          "output_type": "execute_result",
          "data": {
            "text/latex": [
              "$\\displaystyle \\left[\\begin{matrix}2.0 & -1.0 & 0.0\\\\0 & 1.5 & -1.0\\\\0 & 0 & -0.333333333333333\\end{matrix}\\right]$"
            ],
            "text/plain": [
              "Matrix([\n",
              "[2.0, -1.0,                0.0],\n",
              "[  0,  1.5,               -1.0],\n",
              "[  0,    0, -0.333333333333333]])"
            ]
          },
          "metadata": {},
          "execution_count": 33
        }
      ]
    },
    {
      "cell_type": "code",
      "metadata": {
        "id": "DciWCuhr2HKv",
        "outputId": "7d20ee4f-c9f8-4895-e588-6fcb3b9476e0"
      },
      "source": [
        "import numpy as np\n",
        "import numpy.linalg as la\n",
        "\n",
        "def LUdecomp( A, b ):\n",
        "    n = b.size\n",
        "    L = np.zeros((n,n))\n",
        "    U = A\n",
        "    #LU decomposition(Сделал 2 способа, не знаю какой из них больше похож на метод гаусса)\n",
        "    for k in range(1,n):\n",
        "        for i in range(k-1,n):\n",
        "            for j in range(i,n):\n",
        "                L[j,i]=U[j,i]/U[i,i]\n",
        "        for i in range(k,n):    \n",
        "            for j in range(k-1,n):\n",
        "                U[i,j]=U[i,j]-L[i,k-1]*U[k-1,j]\n",
        "    # L = np.eye(n)\n",
        "    # U = np.zeros((n,n))\n",
        "    # #LU - decomposition\n",
        "    # for i in range(n):\n",
        "    #     for j in range(n):\n",
        "    #         if i<=j:\n",
        "    #             U[i,j]=A[i,j]- sum([L[i,k]*U[k,j] for k in range(i)])\n",
        "    #         if i>j:\n",
        "    #             L[i,j]=(A[i,j]- sum([L[i,k]*U[k,j] for k in range(j)]))/U[j,j]\n",
        "    print('L = ',L)\n",
        "    print('U = ',U)\n",
        "    y=np.zeros(n)\n",
        "    x=np.zeros(n)\n",
        "    # прямой ход\n",
        "    for k in range(n):\n",
        "        y[k] = (b[k] - sum([L[k,i]*y[i] for i in range(k)]))/L[k,k]\n",
        "\n",
        "    # обратный ход\n",
        "    for k in range(n-1,-1,-1):\n",
        "        x[k] = (y[k] - sum([U[k,i]*x[i] for i in range(k+1,n)]))/U[k,k]\n",
        "\n",
        "    return x\n",
        "\n",
        "#все числа в представлены как вещественные\n",
        "A1 = np.array([[1e-16, 1., -1.], [-1., 2., -1.], [2., -1., 0.]]);\n",
        "b1 = np.array([0., 0., 1.]);\n",
        "\n",
        "A2 = np.array([[2., -1., 0.], [-1., 2., -1.], [1e-16, 1., -1.]])\n",
        "b2 = np.array([1., 0., 0.])\n",
        "\n",
        "print('LUdec u2 = ', LUdecomp(A1,b1))"
      ],
      "execution_count": null,
      "outputs": [
        {
          "output_type": "stream",
          "name": "stdout",
          "text": [
            "L =  [[ 1.e+00  0.e+00  0.e+00]\n",
            " [-1.e+16  1.e+00  0.e+00]\n",
            " [ 2.e+16 -2.e+00  1.e+00]]\n",
            "U =  [[ 1.e-16  1.e+00 -1.e+00]\n",
            " [ 0.e+00  1.e+16 -1.e+16]\n",
            " [ 0.e+00  0.e+00  4.e+00]]\n",
            "LUdec u2 =  [0.55511151 0.25       0.25      ]\n"
          ]
        },
        {
          "output_type": "stream",
          "name": "stderr",
          "text": [
            "<ipython-input-71-04790a458b31>:11: RuntimeWarning: invalid value encountered in double_scalars\n",
            "  L[j,i]=U[j,i]/U[i,i]\n",
            "<ipython-input-71-04790a458b31>:15: RuntimeWarning: invalid value encountered in double_scalars\n",
            "  L[j,i]=U[j,i]/U[i,i]\n"
          ]
        }
      ]
    },
    {
      "cell_type": "code",
      "metadata": {
        "id": "M3VguXns2HKy"
      },
      "source": [
        ""
      ],
      "execution_count": null,
      "outputs": []
    },
    {
      "cell_type": "markdown",
      "metadata": {
        "id": "K6vK7jDv2HKy"
      },
      "source": [
        "## Часть 2. Нахождение обратной матрицы с помощью LU разложения"
      ]
    },
    {
      "cell_type": "markdown",
      "metadata": {
        "id": "bxTOWorv2HKz"
      },
      "source": [
        "Задание:\n",
        "\n",
        "Предложить алгоритм с использованием LU-разложения и найти обратную матрицу с точностью $\\epsilon = 10^{-3}$:\n",
        "$$\n",
        "A = \\begin{pmatrix} \n",
        "1 & 1  & 1 \\\\\n",
        "0 & 1 & 2 \\\\\n",
        "7 & 1 & 4 \\\\\n",
        "\\end{pmatrix}\n",
        "$$\n",
        "Для необходимых оценок использовать первую норму. Сравнить результат со значением, найденным с помощью функции numpy.inv."
      ]
    },
    {
      "cell_type": "code",
      "metadata": {
        "id": "eD94oTbZ2HKz",
        "outputId": "f1514c0b-65bd-41f2-8ae6-b42457bb1d31"
      },
      "source": [
        "import numpy as np\n",
        "import sympy as sp\n",
        "import numpy.linalg as la\n",
        "\n",
        "def LUinv(A):\n",
        "    n = np.shape(A)[0]\n",
        "    L = np.eye(n)\n",
        "    U = np.zeros((n,n))\n",
        "    #LU - decomposition(Второй способ)\n",
        "    for i in range(n):\n",
        "        for j in range(n):\n",
        "            if i<=j:\n",
        "                U[i,j]=A[i,j]- sum([L[i,k]*U[k,j] for k in range(i)])\n",
        "            if i>j:\n",
        "                L[i,j]=(A[i,j]- sum([L[i,k]*U[k,j] for k in range(j)]))/U[j,j]\n",
        "    print(L)\n",
        "    print(U)\n",
        "    y=np.zeros(n)\n",
        "    X=np.zeros((n,n))\n",
        "    #решаем систему для каждого столбца X\n",
        "    for t in range(n):\n",
        "        b = np.zeros(n)\n",
        "        b[t]=1\n",
        "        # прямой ход\n",
        "        for k in range(n):\n",
        "            y[k] = (b[k] - sum([L[k,i]*y[i] for i in range(k)]))/L[k,k]\n",
        "        # обратный ход\n",
        "        for k in range(n-1,-1,-1):\n",
        "            X[k,t] = (y[k] - sum([U[k,i]*X[i,t] for i in range(k+1,n)]))/U[k,k]\n",
        "\n",
        "    return X\n",
        "\n",
        "A = np.array([[1,1,1],[0,1,2],[7,1,4]])\n",
        "A1 = la.inv(A)\n",
        "A2 = LUinv(A)\n",
        "print('Ainv_with_linalg', A1)\n",
        "print('Ainv = ', A2)\n",
        "print('abs_error=' ,la.norm(A1-A2, ord = 1))"
      ],
      "execution_count": null,
      "outputs": [
        {
          "output_type": "stream",
          "name": "stdout",
          "text": [
            "[[ 1.  0.  0.]\n",
            " [ 0.  1.  0.]\n",
            " [ 7. -6.  1.]]\n",
            "[[1. 1. 1.]\n",
            " [0. 1. 2.]\n",
            " [0. 0. 9.]]\n",
            "Ainv_with_linalg [[ 0.22222222 -0.33333333  0.11111111]\n",
            " [ 1.55555556 -0.33333333 -0.22222222]\n",
            " [-0.77777778  0.66666667  0.11111111]]\n",
            "Ainv =  [[ 0.22222222 -0.33333333  0.11111111]\n",
            " [ 1.55555556 -0.33333333 -0.22222222]\n",
            " [-0.77777778  0.66666667  0.11111111]]\n",
            "abs_error= 3.608224830031759e-16\n"
          ]
        }
      ]
    },
    {
      "cell_type": "code",
      "metadata": {
        "id": "-TjEPrEY2HK1"
      },
      "source": [
        ""
      ],
      "execution_count": null,
      "outputs": []
    }
  ]
}