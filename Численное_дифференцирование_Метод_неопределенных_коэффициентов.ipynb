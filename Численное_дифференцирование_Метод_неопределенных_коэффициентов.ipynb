{
  "nbformat": 4,
  "nbformat_minor": 0,
  "metadata": {
    "anaconda-cloud": {},
    "kernelspec": {
      "name": "python3",
      "display_name": "Python 3.8.5 64-bit ('base': conda)"
    },
    "language_info": {
      "codemirror_mode": {
        "name": "ipython",
        "version": 3
      },
      "file_extension": ".py",
      "mimetype": "text/x-python",
      "name": "python",
      "nbconvert_exporter": "python",
      "pygments_lexer": "ipython3",
      "version": "3.8.5"
    },
    "interpreter": {
      "hash": "374c64f666e4a92d73d9fe4353c63504f10102eb3c5a6e85086f78d6fc6d099f"
    },
    "colab": {
      "name": "Численное дифференцирование. Метод неопределенных коэффициентов.ipynb",
      "provenance": [],
      "collapsed_sections": [],
      "include_colab_link": true
    }
  },
  "cells": [
    {
      "cell_type": "markdown",
      "metadata": {
        "id": "view-in-github",
        "colab_type": "text"
      },
      "source": [
        "<a href=\"https://colab.research.google.com/github/mzyatkov/Comp_math/blob/main/%D0%A7%D0%B8%D1%81%D0%BB%D0%B5%D0%BD%D0%BD%D0%BE%D0%B5_%D0%B4%D0%B8%D1%84%D1%84%D0%B5%D1%80%D0%B5%D0%BD%D1%86%D0%B8%D1%80%D0%BE%D0%B2%D0%B0%D0%BD%D0%B8%D0%B5_%D0%9C%D0%B5%D1%82%D0%BE%D0%B4_%D0%BD%D0%B5%D0%BE%D0%BF%D1%80%D0%B5%D0%B4%D0%B5%D0%BB%D0%B5%D0%BD%D0%BD%D1%8B%D1%85_%D0%BA%D0%BE%D1%8D%D1%84%D1%84%D0%B8%D1%86%D0%B8%D0%B5%D0%BD%D1%82%D0%BE%D0%B2.ipynb\" target=\"_parent\"><img src=\"https://colab.research.google.com/assets/colab-badge.svg\" alt=\"Open In Colab\"/></a>"
      ]
    },
    {
      "cell_type": "markdown",
      "metadata": {
        "id": "NqteJeqeBwUd"
      },
      "source": [
        "## Теоретическое описание метода неопределенных коэффициентов и его программная реализация\n",
        "\n",
        "Пусть в одномерной области $[x_{min}, x_{max}]$ задана равномерная сетка из $N = m + l + 1$ узлов (Равномерная сетка - сетка, расстояние между двумя любыми соседними узлами которой равно постоянному h, где h - сеточный шаг). На этой области определена бесконечно непрерывно дифференцируемая ф-я $f$. Известны значения этой ф-и во всех узлах рассматриваемой сетки $\\{f_i\\}_{i=0}^N$ (говорять, что определена сеточная ф-я - проекция ф-и на сетку). Пусть нас интересует значение производной в некотором узле $j$, слева от которого $l$ узлов, справа $m$. Построим метод максимального порядка точности по значениям функции в сеточных узлах. Для этого представим производную в узле $j$ как сумму значений ф-и во всех узлах, взятых с некоторыми весами:\n",
        "$$\n",
        "f'(x_j) \\approx \\frac{1}{h}\\sum_{k = -l}^m \\alpha_k f(x_j+kh)\n",
        "$$\n",
        "Подберем веса так, чтобы по этим значениям порядок точности был максимальным. Оказывается, что по $N$ точкам можно построить метод $N-1$-го порядка точности."
      ]
    },
    {
      "cell_type": "markdown",
      "metadata": {
        "id": "vNwR3p3WBwUh"
      },
      "source": [
        "#### Контрольный вопрос: что такое порядок точности метода?\n",
        "\n",
        "Ваш ответ: Порядок точности - это максимальное число первых членов ряда Тейлора полученного решения, совпадающих с теоретическим решением "
      ]
    },
    {
      "cell_type": "markdown",
      "metadata": {
        "id": "S-_eu1fTBwUi"
      },
      "source": [
        "Для этого разложим в ряд Тейлора все члены, входящие в суммирование в выбранной аппроксимации (численном приближении), относительно точки $x_j$, сгруппируем члены при одинаковых степенях и приравняем к нулю коэффициенты при степенях ниже N (кроме первой, для нее приравняем к 1). В итоге получим N уравнений относительно N неизвестных."
      ]
    },
    {
      "cell_type": "markdown",
      "metadata": {
        "id": "OtpfX2xvBwUi"
      },
      "source": [
        "#### Контрольный вопрос: почему в этом случае порядок метода будет $N-1$?\n",
        "\n",
        "Ваш ответ: Если число точек равно $N$, то число уравнений равно $N$, значит в разложении $f(x_0+kh)$ члены до порядка $N-1$. После подстановки в формулу нашего метода для вычисления производной получаем, что первый ненулевой член будет порядка $N$, который мы по формуле делим на h. Значит порядок метода будет $N-1$.\n"
      ]
    },
    {
      "cell_type": "markdown",
      "metadata": {
        "id": "QVelk8smBwUj"
      },
      "source": [
        "В матричном виде получившуюся систему можно представить как $A\\alpha = b$, где $b^T$ = $(0,1,0,...,0)^T$, а матрица A\n",
        "$$\n",
        "A = \\begin{pmatrix} \n",
        "1 & 1 & ... & 1 \\\\\n",
        "-l & -l+1 & ... & m \\\\\n",
        "(-l)^2 & (-l+1)^2 & ... & m^2 \\\\\n",
        "(-l)^3 & (-l+1)^3 & ...  & m^3 \\\\\n",
        "...&...&...&...\\\\\n",
        "\\end{pmatrix}\n",
        "$$"
      ]
    },
    {
      "cell_type": "markdown",
      "metadata": {
        "id": "_MBv7zPMBwUj"
      },
      "source": [
        "#### Контрольный вопрос: как называется такая матрица? Существует ли единственное решение системы и почему?\n",
        "\n",
        "Ваш ответ: Матрица Вандермонда. Существует, так как определитель матрицы не равен нулю (значения во второй строчке попарно различны), значит решение существует и единственно\n",
        "$${\\begin{vmatrix}1&x_{1}&\\ldots &x_{1}^{{n-1}}\\\\1&x_{2}&\\ldots &x_{2}^{{n-1}}\\\\\\vdots &\\vdots &\\ddots &\\vdots \\\\1&x_{n}&\\ldots &x_{n}^{{n-1}}\\\\\\end{vmatrix}}\\ \\ =\\prod _{{1\\leq j<i\\leq n}}\\!(x_{i}-x_{j}),$$"
      ]
    },
    {
      "cell_type": "code",
      "metadata": {
        "scrolled": true,
        "id": "H7jNt16yBwUk",
        "colab": {
          "base_uri": "https://localhost:8080/"
        },
        "outputId": "93594770-ce16-4cf2-d763-4efc9270dda2"
      },
      "source": [
        "#скрипт, который реализует описанный выше алгоритм\n",
        "import numpy as np\n",
        "import numpy.linalg as la\n",
        "\n",
        "def get_diff(u, l, m, h):\n",
        "    n = u.size\n",
        "    v = np.linspace(-l,m, n)\n",
        "    A = np.fliplr(np.vander(v, v.size)).T\n",
        "    #print(A)\n",
        "    b = np.zeros(n)\n",
        "    b[1] = 1\n",
        "    alpha = la.solve(A,b)\n",
        "    diff = 1/h*alpha.dot(u.T)\n",
        "    return diff\n",
        "\n",
        "p = 4 # порядок метода\n",
        "a = np.pi/3\n",
        "b = np.pi/2\n",
        "h = (b-a)/p\n",
        "print('h = ', h)\n",
        "x = np.linspace(a, b, p+1)\n",
        "u = np.sin(x) #ищем производную синуса\n",
        "\n",
        "diff = get_diff(u, 0, p, h)\n",
        "print('diff = ', diff)"
      ],
      "execution_count": null,
      "outputs": [
        {
          "output_type": "stream",
          "name": "stdout",
          "text": [
            "h =  0.13089969389957473\n",
            "diff =  0.49998238989252497\n"
          ]
        }
      ]
    },
    {
      "cell_type": "markdown",
      "metadata": {
        "id": "5MiJyXG1BwUn"
      },
      "source": [
        "## Часть 1. Ошибка и обусловленность МНК"
      ]
    },
    {
      "cell_type": "markdown",
      "metadata": {
        "collapsed": true,
        "id": "oMJy2WOMBwUn"
      },
      "source": [
        "Задание:\n",
        "\n",
        "1. написать скрипт, который строит график зависимости абсолютной ошибки от числа узлов\n",
        "2. написать скрипт, который строит график зависимости числа обусловленности матрицы A системы с ростом ее размерности"
      ]
    },
    {
      "cell_type": "code",
      "metadata": {
        "id": "c6aWlHHwBwUo",
        "colab": {
          "base_uri": "https://localhost:8080/",
          "height": 330
        },
        "outputId": "aeaf4d62-40b0-4997-bfae-058d07a9fcac"
      },
      "source": [
        "#скрипт, который реализует описанный выше алгоритм\n",
        "%matplotlib inline\n",
        "import numpy as np\n",
        "import numpy.linalg as la\n",
        "import matplotlib.pyplot as plt\n",
        "\n",
        "def get_diff(u, l, m, h):\n",
        "    n = u.size\n",
        "    v = np.linspace(-l,m, n)\n",
        "    A = np.fliplr(np.vander(v, v.size)).T\n",
        "    #print(A)\n",
        "    b = np.zeros(n)\n",
        "    b[1] = 1\n",
        "    alpha = la.solve(A,b)\n",
        "    diff = 1/h*alpha.dot(u.T)\n",
        "    return diff\n",
        "\n",
        "\n",
        "y_s = []\n",
        "x_s = np.arange(1,150)\n",
        "for N in x_s:\n",
        "    a = np.pi/3\n",
        "    b = np.pi/2\n",
        "    h = (b-a)/N\n",
        "    #print('h = ', h)\n",
        "    x = np.linspace(a, b, N+1)\n",
        "    u = np.sin(x) #ищем производную синуса\n",
        "    y_s.append(abs(get_diff(u, 0, N, h) - np.cos(a)))\n",
        "\n",
        "plt.plot(x_s,y_s, label= 'abs_errors')\n",
        "plt.yscale('log')\n",
        "plt.legend() #отрисовываем легеду. Здесь в верхнем левом углу, но можно поменять\n",
        "plt.grid() #добавляем сетку на график\n",
        "plt.xlabel('Число узлов') #подписываем ось x\n",
        "plt.ylabel('Абсолютная ошибка') #подписываем ось x\n",
        "plt.title('Зависимость абсолютной ошибки от числа узлов \\n для вычисления производной $\\sin(x)$ в точке $\\pi/3$',) #подписываем график\n",
        "\n"
      ],
      "execution_count": null,
      "outputs": [
        {
          "output_type": "execute_result",
          "data": {
            "text/plain": [
              "Text(0.5, 1.0, 'Зависимость абсолютной ошибки от числа узлов \\n для вычисления производной $\\\\sin(x)$ в точке $\\\\pi/3$')"
            ]
          },
          "metadata": {},
          "execution_count": 18
        },
        {
          "output_type": "display_data",
          "data": {
            "image/png": "[encoded data removed]",
            "text/plain": [
              "<Figure size 432x288 with 1 Axes>"
            ]
          },
          "metadata": {
            "needs_background": "light"
          }
        }
      ]
    },
    {
      "cell_type": "code",
      "metadata": {
        "id": "cHNs40VTTTGl"
      },
      "source": [
        ""
      ],
      "execution_count": null,
      "outputs": []
    },
    {
      "cell_type": "code",
      "metadata": {
        "id": "POkfrS9bTSke"
      },
      "source": [
        ""
      ],
      "execution_count": null,
      "outputs": []
    },
    {
      "cell_type": "code",
      "metadata": {
        "id": "IxYmb3AbBwUp",
        "colab": {
          "base_uri": "https://localhost:8080/",
          "height": 312
        },
        "outputId": "191e5802-22d9-47bc-b4f0-d420b0303669"
      },
      "source": [
        "#скрипт, который реализует описанный выше алгоритм\n",
        "%matplotlib inline\n",
        "import numpy as np\n",
        "import numpy.linalg as la\n",
        "import matplotlib.pyplot as plt\n",
        "\n",
        "def get_mu(u, l, m, h):\n",
        "    n = u.size\n",
        "    v = np.linspace(-l,m, n)\n",
        "    A = np.fliplr(np.vander(v, v.size)).T\n",
        "    mu = la.cond(A) # произведение норм матрицы и обратной к ней\n",
        "    return mu\n",
        "\n",
        "\n",
        "y_s = []\n",
        "x_s = np.arange(2,101)\n",
        "for p in x_s:\n",
        "    a = np.pi/3\n",
        "    b = np.pi/2\n",
        "    h = (b-a)/(p-1)\n",
        "    #print('h = ', h)\n",
        "    x = np.linspace(a, b, p)\n",
        "    u = np.sin(x) #ищем производную синуса\n",
        "    y_s.append(get_mu(u, 0, p-1, h))\n",
        "\n",
        "plt.plot(x_s,y_s, label= '$\\mu(A)$')\n",
        "plt.legend() #отрисовываем легеду. Здесь в верхнем левом углу, но можно поменять\n",
        "plt.yscale('log')\n",
        "plt.grid() #добавляем сетку на график\n",
        "plt.xlabel('Число узлов') #подписываем ось x\n",
        "plt.ylabel('Число обусловленности') #подписываем ось x\n",
        "plt.title('Зависимость числа обусловленности матрицы от размерности') #подписываем график\n",
        "print()\n"
      ],
      "execution_count": null,
      "outputs": [
        {
          "output_type": "stream",
          "name": "stdout",
          "text": [
            "\n"
          ]
        },
        {
          "output_type": "display_data",
          "data": {
            "image/png": "[encoded data removed]",
            "text/plain": [
              "<Figure size 432x288 with 1 Axes>"
            ]
          },
          "metadata": {
            "needs_background": "light"
          }
        }
      ]
    },
    {
      "cell_type": "markdown",
      "metadata": {
        "id": "bjKpfs6XBwUp"
      },
      "source": [
        "## Часть 2. Оценка порядка точности метода\n",
        "\n",
        "Рассмотрим метод с порядком точности $p$. Тогда ошибка метода $\\epsilon_h = Ch^p$, где $h$ - сеточный шаг. На сетке с двое меньшим шагом ошибка метода будет $\\epsilon_{h/2} = C_1 \\left(\\frac{h}{2}\\right)^p$. Если шаг h достаточно мелкий (ф-я меняется не очень сильно), то можно считать, что $C \\approx C_1$. Тогда, исключив $C$ из первого равенства за счет второго, можно получить, что\n",
        "$$\n",
        "p = \\log_2 \\frac{\\epsilon_h}{\\epsilon_{h/2}}\n",
        "$$"
      ]
    },
    {
      "cell_type": "markdown",
      "metadata": {
        "collapsed": true,
        "id": "xRg8T4GFBwUq"
      },
      "source": [
        "Задание:\n",
        "\n",
        "3. написать скрипт, который численно будет определять порядок точности методов направленная разность и центральная разность. Построить график зависимости p от шага сетки в широком диапазоне значений h. На графике для h использовать логарифмический масштаб. Объяснить поведение графиков."
      ]
    },
    {
      "cell_type": "code",
      "metadata": {
        "id": "bcKfPO1nBwUq",
        "colab": {
          "base_uri": "https://localhost:8080/",
          "height": 316
        },
        "outputId": "320c3bc7-a170-48ad-a6e0-df9ac8b859fb"
      },
      "source": [
        "#скрипт, который реализует описанный выше алгоритм\n",
        "%matplotlib inline\n",
        "import numpy as np\n",
        "import numpy.linalg as la\n",
        "import matplotlib.pyplot as plt\n",
        "\n",
        "a = np.pi/3\n",
        "def dir_dif(h):\n",
        "    return (np.sin(a + h)-np.sin(a))/h\n",
        "def centr_dif(h):\n",
        "    return (np.sin(a + h)-np.sin(a-h))/(h*2)\n",
        "def centr_precision(h):\n",
        "    if h==0:\n",
        "        return 0\n",
        "    return np.log2(abs(centr_dif(h)-np.cos(a))/abs(centr_dif(h/2)-np.cos(a)))\n",
        "def dir_precision(h):\n",
        "    if h==0:\n",
        "        return 0\n",
        "    return np.log2(abs(dir_dif(h)-np.cos(a))/abs(dir_dif(h/2)-np.cos(a)))\n",
        "\n",
        "y_centr = []\n",
        "y_dir=[]\n",
        "xmini = np.array([10**(-i) for i in range(1,12)])\n",
        "x = np.concatenate((xmini, np.linspace(1,100,100)))\n",
        "x.sort()\n",
        "for h in x:\n",
        "    y_centr.append(centr_precision(h))\n",
        "    y_dir.append(dir_precision(h))\n",
        "\n",
        "\n",
        "plt.plot(x,y_centr, label= '$Центральная\\ разность$')\n",
        "plt.plot(x,y_dir, label= '$Направленная\\ разность$')\n",
        "plt.xscale('log')\n",
        "plt.legend() #отрисовываем легеду. Здесь в верхнем левом углу, но можно поменять\n",
        "plt.grid() #добавляем сетку на график\n",
        "plt.xlabel('Шаг сетки, h') #подписываем ось x\n",
        "plt.ylabel('Порядок точности метода, p') #подписываем ось x\n",
        "plt.title('График зависимости p от шага сетки в широком диапазоне значений h',) #подписываем график\n",
        "print()\n"
      ],
      "execution_count": 24,
      "outputs": [
        {
          "output_type": "stream",
          "name": "stdout",
          "text": [
            "\n"
          ]
        },
        {
          "output_type": "display_data",
          "data": {
            "image/png": "[encoded data removed]",
            "text/plain": [
              "<Figure size 432x288 with 1 Axes>"
            ]
          },
          "metadata": {
            "needs_background": "light"
          }
        }
      ]
    },
    {
      "cell_type": "markdown",
      "metadata": {
        "id": "QxoJ1hi29Rmt"
      },
      "source": [
        "Функция колеблется на \"бесконечности\", т.к. синус - периодическая функнция, а при большом шаге порядок точности стремится к нулю, потому что теряется информация о производной, и абсолютные ошибки становятся равными.\n",
        "\n",
        "При малом шаге порядок методов стремится к 1 и 2 соответственно. То есть для направленной разности зависимость ошибки квадратичная, а для центральной - линейная, потому что если рассмотреть разложение по Тейлору двух методов и сравнить с производной, то для центральной разности члены второго порядка сократятся, и после деления на h получим, что порядок метода равен двум. Для направленной разности получим, что порядок метода равен одному.\n",
        "\n",
        "При слишком малых h появляется ощутимая погрешность машинного округления, и порядок точности стремится к 0"
      ]
    },
    {
      "cell_type": "markdown",
      "metadata": {
        "id": "pLAFXOA-BwUr"
      },
      "source": [
        "## Использование sympy для дифференцирования ф-й\n",
        "\n",
        "Пакет sympy очень удобный инструмент для символьных вычислений. Но не стоит с помощью него реализовывать какие-либо численные методы. Рассмотрим пример его использования для дифференцирования:"
      ]
    },
    {
      "cell_type": "code",
      "metadata": {
        "id": "1-y7zqgkBwUs",
        "colab": {
          "base_uri": "https://localhost:8080/",
          "height": 88
        },
        "outputId": "cde4e4a6-06d0-49d2-a835-eb2e5c20d682"
      },
      "source": [
        "#пример взять отсюда https://maths-with-python.readthedocs.io/en/latest/07-sympy.html\n",
        "#еще про sympy можно посмотреть здесь http://www.asmeurer.com/sympy_doc/dev-py3k/tutorial/tutorial.ru.html\n",
        "\n",
        "import sympy as sp\n",
        "import numpy as np\n",
        "\n",
        "x = sp.Symbol('x')\n",
        "\n",
        "expression = x**2*sp.sin(sp.log(x))\n",
        "print('Первая производная', sp.diff(expression, x))\n",
        "print('Вторая производная', sp.diff(expression, x, 2))\n",
        "print('Третья производная', sp.diff(expression, x, 3))\n",
        "\n",
        "expr2 = sp.sin(x)\n",
        "expr2 = sp.diff(expr2, x, 2)\n",
        "expr2.subs(x, np.pi/2) #подстваляем значение и вычисляем символьное выражение"
      ],
      "execution_count": null,
      "outputs": [
        {
          "output_type": "stream",
          "name": "stdout",
          "text": [
            "Первая производная 2*x*sin(log(x)) + x*cos(log(x))\n",
            "Вторая производная sin(log(x)) + 3*cos(log(x))\n",
            "Третья производная (-3*sin(log(x)) + cos(log(x)))/x\n"
          ]
        },
        {
          "output_type": "execute_result",
          "data": {
            "text/latex": "$\\displaystyle -1.0$",
            "text/plain": [
              "-1.00000000000000"
            ]
          },
          "metadata": {},
          "execution_count": 6
        }
      ]
    },
    {
      "cell_type": "code",
      "metadata": {
        "collapsed": true,
        "id": "f06371nrBwUt"
      },
      "source": [
        ""
      ],
      "execution_count": null,
      "outputs": []
    }
  ]
}